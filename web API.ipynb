{
 "cells": [
  {
   "cell_type": "code",
   "execution_count": 1,
   "id": "673999f8-c868-467f-9016-084fb9226a4a",
   "metadata": {},
   "outputs": [
    {
     "data": {
      "text/plain": [
       "'\"QTS.1\\nWhat is an API with example?\\n\\nAPIs are mechanisms that enable two software components to communicate with each other \\nusing a set of definitions and protocols.\\n\\nFor example, the weather bureau\\'s software \\nsystem contains daily weather data. The weather app on your phone “talks” to this \\nsystem via APIs and shows you daily weather updates on your phone.'"
      ]
     },
     "execution_count": 1,
     "metadata": {},
     "output_type": "execute_result"
    }
   ],
   "source": [
    "\"\"\"\"QTS.1\n",
    "What is an API with example?\n",
    "\n",
    "APIs are mechanisms that enable two software components to communicate with each other \n",
    "using a set of definitions and protocols.\n",
    "\n",
    "For example, the weather bureau's software \n",
    "system contains daily weather data. The weather app on your phone “talks” to this \n",
    "system via APIs and shows you daily weather updates on your phone.\"\"\""
   ]
  },
  {
   "cell_type": "code",
   "execution_count": 2,
   "id": "5fbe2669-927a-48e7-be2c-8a7d3f105c90",
   "metadata": {},
   "outputs": [
    {
     "data": {
      "text/plain": [
       "'QTS.2\\nAdvantages:-\\nThe major benefit of using an API is accessing and consuming data and services\\nfrom thousands of independent sources. This means organizations of all sizes can\\naccess these functionalities without developing their own specialized applications.\\nOther major benefits to using APIs include: APIs increase business agility\\n\\nDisadvantages:-\\nComplexity: APIs can be complex, requiring a significant amount of development effort to implement and\\nmaintain. Compatibility Issues: APIs can have compatibility issues between different versions\\nof the same software system or between different systems, which can lead to errors and system failures.'"
      ]
     },
     "execution_count": 2,
     "metadata": {},
     "output_type": "execute_result"
    }
   ],
   "source": [
    "\"\"\"QTS.2\n",
    "Advantages:-\n",
    "The major benefit of using an API is accessing and consuming data and services\n",
    "from thousands of independent sources. This means organizations of all sizes can\n",
    "access these functionalities without developing their own specialized applications.\n",
    "Other major benefits to using APIs include: APIs increase business agility\n",
    "\n",
    "Disadvantages:-\n",
    "Complexity: APIs can be complex, requiring a significant amount of development effort to implement and\n",
    "maintain. Compatibility Issues: APIs can have compatibility issues between different versions\n",
    "of the same software system or between different systems, which can lead to errors and system failures.\"\"\""
   ]
  },
  {
   "cell_type": "code",
   "execution_count": 3,
   "id": "62b6fe28-34d5-404b-949c-6529e7b5093a",
   "metadata": {},
   "outputs": [
    {
     "data": {
      "text/plain": [
       "'QTS.3\\nWeb API as the name suggests, is an API over the web which can be accessed using \\nHTTP protocol. It is a concept and not a technology. We can build Web API using\\ndifferent technologies such as Java, .NET etc.\\n\\nDifference between API and WEB API:-\\nWeb service is used to communicate between two machines on a network. Web API is \\nused as an interface between two different applications for communicating with each other.\\nIt uses HTML requests that can be compressed, but XML data cannot be compressed. Data can\\nbe compressed.'"
      ]
     },
     "execution_count": 3,
     "metadata": {},
     "output_type": "execute_result"
    }
   ],
   "source": [
    "\"\"\"QTS.3\n",
    "Web API as the name suggests, is an API over the web which can be accessed using \n",
    "HTTP protocol. It is a concept and not a technology. We can build Web API using\n",
    "different technologies such as Java, .NET etc.\n",
    "\n",
    "Difference between API and WEB API:-\n",
    "Web service is used to communicate between two machines on a network. Web API is \n",
    "used as an interface between two different applications for communicating with each other.\n",
    "It uses HTML requests that can be compressed, but XML data cannot be compressed. Data can\n",
    "be compressed.\"\"\""
   ]
  },
  {
   "cell_type": "code",
   "execution_count": 5,
   "id": "bd81b642-e2c9-463e-a207-984423d68d3d",
   "metadata": {},
   "outputs": [
    {
     "data": {
      "text/plain": [
       "'QTS.4\\nSOAP archietecture:-\\nSOAP is a protocol for the exchange of information in a distributed environment. \\nSOAP messages are encoded as XML documents and can be exchanged using various underlying protocols.\\n\\nREST archietecture:-\\nThe Representational State Transfer (REST) architectural style is a worldview that elevates \\ninformation into a first-class element of architectures. REST allows us to achieve the architectural \\nproperties of performance, scalability, generality, simplicity, modifiability, and extensibility.\\n\\nShortcoming of SOAP:-\\n1.API Calls are not Cached. An API call is a process of sending a request when an API has been \\nset up with the necessary endpoints.\\n2.Extremely Complicated. SOAP is substantially more sophisticated than REST. ...\\n3.No Choice of Data Formats. ...\\n4.Requires More Bandwidth.'"
      ]
     },
     "execution_count": 5,
     "metadata": {},
     "output_type": "execute_result"
    }
   ],
   "source": [
    "\"\"\"QTS.4\n",
    "SOAP archietecture:-\n",
    "SOAP is a protocol for the exchange of information in a distributed environment. \n",
    "SOAP messages are encoded as XML documents and can be exchanged using various underlying protocols.\n",
    "\n",
    "REST archietecture:-\n",
    "The Representational State Transfer (REST) architectural style is a worldview that elevates \n",
    "information into a first-class element of architectures. REST allows us to achieve the architectural \n",
    "properties of performance, scalability, generality, simplicity, modifiability, and extensibility.\n",
    "\n",
    "Shortcoming of SOAP:-\n",
    "1.API Calls are not Cached. An API call is a process of sending a request when an API has been \n",
    "set up with the necessary endpoints.\n",
    "2.Extremely Complicated. SOAP is substantially more sophisticated than REST. ...\n",
    "3.No Choice of Data Formats. ...\n",
    "4.Requires More Bandwidth.\"\"\""
   ]
  },
  {
   "cell_type": "code",
   "execution_count": 7,
   "id": "5a86cbcc-6d3c-45b5-aa0e-fb7153876d9d",
   "metadata": {},
   "outputs": [
    {
     "data": {
      "text/plain": [
       "'QTS.5\\nDifferentiate between nd SOAP:-\\nREST is a set of guidelines that offers flexible implementation, whereas SOAP is a \\nprotocol with specific requirements like XML messaging. REST APIs are lightweight, \\nmaking them ideal for newer contexts like the Internet of Things (IoT), mobile \\napplication development, and serverless computing.\\n\\nREST is faster. Since SOAP is a protocol, it defines its own security measures. \\nREST only inherits the security measures based on what protocol it uses for the \\nimplementation. SOAP is not commonly preferred, but they are used in cases which \\nrequire stateful data transfer and more reliability.19-Dec-2022'"
      ]
     },
     "execution_count": 7,
     "metadata": {},
     "output_type": "execute_result"
    }
   ],
   "source": [
    "\"\"\"QTS.5\n",
    "Differentiate between nd SOAP:-\n",
    "REST is a set of guidelines that offers flexible implementation, whereas SOAP is a \n",
    "protocol with specific requirements like XML messaging. REST APIs are lightweight, \n",
    "making them ideal for newer contexts like the Internet of Things (IoT), mobile \n",
    "application development, and serverless computing.\n",
    "\n",
    "REST is faster. Since SOAP is a protocol, it defines its own security measures. \n",
    "REST only inherits the security measures based on what protocol it uses for the \n",
    "implementation. SOAP is not commonly preferred, but they are used in cases which \n",
    "require stateful data transfer and more reliability.\"\"\""
   ]
  },
  {
   "cell_type": "code",
   "execution_count": null,
   "id": "62b4e466-fea6-49bd-8a02-a8cb91901ca7",
   "metadata": {},
   "outputs": [],
   "source": []
  }
 ],
 "metadata": {
  "kernelspec": {
   "display_name": "Python 3 (ipykernel)",
   "language": "python",
   "name": "python3"
  },
  "language_info": {
   "codemirror_mode": {
    "name": "ipython",
    "version": 3
   },
   "file_extension": ".py",
   "mimetype": "text/x-python",
   "name": "python",
   "nbconvert_exporter": "python",
   "pygments_lexer": "ipython3",
   "version": "3.10.8"
  }
 },
 "nbformat": 4,
 "nbformat_minor": 5
}
